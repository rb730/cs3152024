{
 "cells": [
  {
   "cell_type": "code",
   "execution_count": null,
   "id": "665bbfd1-e057-4b0d-8f4d-f907fb2e5416",
   "metadata": {},
   "outputs": [],
   "source": [
    "myAPIkey = \"ADD YOUR OWN API KEY HERE!\""
   ]
  },
  {
   "cell_type": "code",
   "execution_count": null,
   "id": "e0e10e50-0a42-4395-b457-5e31d24b0ec2",
   "metadata": {},
   "outputs": [],
   "source": [
    "import requests, json\n",
    "\n",
    "def getNYTArticles(year, month, apiKey):\n",
    "    \"\"\"Function that sends a request to the NYT API for all articles in a month\n",
    "    and then stores the results in a JSON file.\n",
    "    \"\"\"\n",
    "    # create URL\n",
    "    URL = f\"https://api.nytimes.com/svc/archive/v1/{year}/{month}.json?api-key={apiKey}\"\n",
    "\n",
    "    # send the request to get the data\n",
    "    data = requests.get(URL)\n",
    "    if data.status_code == 200:\n",
    "        print(\"Successfully got the data.\")\n",
    "\n",
    "    dataJson = data.json() # get response as JSON\n",
    "\n",
    "    with open(f\"NYT_{year}-{month}.json\", 'w') as fout:\n",
    "        json.dump(dataJson, fout)"
   ]
  },
  {
   "cell_type": "code",
   "execution_count": null,
   "id": "05fce53f-ae4d-474a-a88a-53cdc909cd8d",
   "metadata": {},
   "outputs": [],
   "source": [
    "getNYTArticles(2024, 2, myAPIkey)"
   ]
  },
  {
   "cell_type": "code",
   "execution_count": null,
   "id": "fcb6735e-e2f9-42ff-a41f-f88f12391860",
   "metadata": {},
   "outputs": [],
   "source": [
    "with open(\"NYT_2024-2.json\") as fin:\n",
    "    articles = json.load(fin)\n",
    "\n",
    "print(type(articles))"
   ]
  },
  {
   "cell_type": "code",
   "execution_count": null,
   "id": "f3ae8f1b-f814-4562-8815-b8bf345f6d72",
   "metadata": {},
   "outputs": [],
   "source": [
    "articles.keys()"
   ]
  },
  {
   "cell_type": "code",
   "execution_count": null,
   "id": "0d39e326-9f77-4593-97f4-ee821358e015",
   "metadata": {},
   "outputs": [],
   "source": [
    "for key in articles:\n",
    "    print(key, type(articles[key]))"
   ]
  },
  {
   "cell_type": "code",
   "execution_count": null,
   "id": "5c9c3c4d-708c-4b99-bb6a-a68c8c0147af",
   "metadata": {},
   "outputs": [],
   "source": [
    "articles['copyright']"
   ]
  },
  {
   "cell_type": "code",
   "execution_count": null,
   "id": "abc42593-0029-4840-a117-d39b42f78227",
   "metadata": {},
   "outputs": [],
   "source": [
    "articles['response'].keys()"
   ]
  },
  {
   "cell_type": "code",
   "execution_count": null,
   "id": "d437e405-b4f4-4080-8ed3-6decb05c180c",
   "metadata": {},
   "outputs": [],
   "source": [
    "for key in articles['response']:\n",
    "    print(key, type(articles['response'][key]))"
   ]
  },
  {
   "cell_type": "code",
   "execution_count": null,
   "id": "1ba2dd25-2ed5-4ef0-8815-82ff7d94595c",
   "metadata": {},
   "outputs": [],
   "source": [
    "articles['response']['meta']"
   ]
  },
  {
   "cell_type": "code",
   "execution_count": null,
   "id": "164a1da8-68ee-4880-8bd7-4bfa0f379997",
   "metadata": {},
   "outputs": [],
   "source": [
    "len(articles['response']['docs'])"
   ]
  },
  {
   "cell_type": "code",
   "execution_count": null,
   "id": "75edf290-b97a-4f53-9753-2544544502bd",
   "metadata": {},
   "outputs": [],
   "source": [
    "articles['response']['docs'][0]"
   ]
  },
  {
   "cell_type": "code",
   "execution_count": null,
   "id": "9e55f5f6-3d12-4f1d-9be9-a85c13733574",
   "metadata": {},
   "outputs": [],
   "source": [
    "oneArticle = articles['response']['docs'][0]\n",
    "for key in oneArticle:\n",
    "    print(key, type(oneArticle[key]))"
   ]
  },
  {
   "cell_type": "code",
   "execution_count": null,
   "id": "f0538865-e297-4e87-b5b6-9fd906734d9b",
   "metadata": {},
   "outputs": [],
   "source": [
    "sections = [article['section_name'] for article in articles['response']['docs']]\n",
    "\n",
    "# Let's look up a few of them\n",
    "sections[:5]"
   ]
  },
  {
   "cell_type": "code",
   "execution_count": null,
   "id": "432cb179-7a52-4a29-beee-fa725e2eb002",
   "metadata": {},
   "outputs": [],
   "source": [
    "from collections import Counter\n",
    "\n",
    "distDct = Counter(sections) # count the occurrences of each section name\n",
    "\n",
    "distDct.most_common(10)"
   ]
  },
  {
   "cell_type": "code",
   "execution_count": null,
   "id": "e98b2c72-a5bd-44f9-ad0c-ef6d143bffe2",
   "metadata": {},
   "outputs": [],
   "source": [
    "worked on with Maya from my group "
   ]
  },
  {
   "cell_type": "code",
   "execution_count": null,
   "id": "104c59df-f527-41ce-9a86-43c8f98bbfd6",
   "metadata": {},
   "outputs": [],
   "source": [
    "def filterArticleDate(date, myAPIkey):\n",
    "   year =  year = int(date[:4])\n",
    "   day = int(date[8:])\n",
    "   month = int(date[5:7]) if date[5] == '0' else int(date[5:7])\n",
    "   file_name = f\"{date}{month}.csv\"\n",
    "   data= requests.get(file_name) #200 is ok, 404 is not found\n",
    "   if (data.status_code == 404): #csv not found, not in folder\n",
    "      articles = getNYTArticles(year, month, myAPIkey) #get the articles\n",
    "      csvFile = flattenAllArticles(date) #converts to csvFile\n",
    "      df = pd.read_csv(csvFile) #turns to dataframe\n",
    "      articlesOnDay = getArticlesOfDay(date) #get articles for desired date\n"
   ]
  },
  {
   "cell_type": "code",
   "execution_count": null,
   "id": "8b409b90-1de5-44f5-bb00-ec1a3a004bb7",
   "metadata": {},
   "outputs": [],
   "source": [
    "import requests, json\n",
    "import pandas as pd\n",
    "from collections import Counter\n",
    "import os\n",
    "   if os.path.exists(file_name):  # Check if CSV file exists\n",
    "        df = pd.read_csv(file_name)  # Load CSV into dataframe\n",
    "   else: \n",
    "        articles = getNYTArticles(year, month, myAPIkey)  # Get the articles\n",
    "        csvFile = flattenAllArticles(date)  # Converts articles to CSV file\n",
    "        df = pd.read_csv(csvFile)  # Load CSV into dataframe   \n",
    "   articlesOnDay = df[df['date'] == date]  # Filter articles for desired date\n",
    "   return articlesOnDay\n",
    "\n",
    "desired_date = \"2024-03-14\"\n",
    "articles = filterArticleDate(desired_date, myAPIkey)\n",
    "print(articles)"
   ]
  },
  {
   "cell_type": "code",
   "execution_count": null,
   "id": "69b5a500-b68a-4c70-b8ae-082e5e0b472d",
   "metadata": {},
   "outputs": [],
   "source": [
    "import requests, json\n",
    "import pandas as pd\n",
    "from collections import Counter\n",
    "\n",
    "myAPIkey = 'CYJUbGC4TcnBoLg8PF1HlnEhJEEPHlBv' #maya \n",
    "\n",
    "'''\n",
    "def get_NYT_articles(start_year, end_year):\n",
    "    for year in range(start_year, end_year):\n",
    "        for month in range(1, 13):\n",
    "            URL = f\"https://api.nytimes.com/svc/archive/v1/{year}/{month}.json?api-key={myAPIkey}\"\n",
    "            print(URL)\n",
    "\n",
    "            data = requests.get(URL)\n",
    "            data.status_code\n",
    "\n",
    "'''\n",
    "def getNYTArticles(year, month, apiKey):\n",
    "    \"\"\"Function that sends a request to the NYT API for all articles in a month\n",
    "    and then stores the results in a JSON file.\n",
    "    \"\"\"\n",
    "    # create URL\n",
    "    URL = f\"https://api.nytimes.com/svc/archive/v1/{year}/{month}.json?api-key={apiKey}\"\n",
    "\n",
    "    # send the request to get the data\n",
    "    data = requests.get(URL)\n",
    "    if data.status_code == 200:\n",
    "        print(\"Successfully got the data.\")\n",
    "\n",
    "    dataJson = data.json() # get response as JSON\n",
    "\n",
    "    with open(f\"NYT_{year}-{month}.json\", 'w') as fout:\n",
    "        json.dump(dataJson, fout)\n",
    "\n",
    "def getArticlesOfDay(date):\n",
    "    year = int(date[:4])\n",
    "    print(year)\n",
    "    month = int(date[5:7]) if date[5] == '0' else int(date[5:7])\n",
    "    print(month)\n",
    "    getNYTArticles(year, month, myAPIkey)\n",
    "\n",
    "    with open(f\"NYT_{year}-{month}.json\") as fin:\n",
    "        data = json.load(fin)\n",
    "\n",
    "    articles = data['response']['docs']\n",
    "\n",
    "    articles_day = []\n",
    "    for article in articles:\n",
    "        if article['pub_date'][:10] == date:\n",
    "            articles_day.append(article)\n",
    "    return articles_day\n",
    "\n",
    "def flattenArticle(article):\n",
    "    output_dict = {}\n",
    "    things_to_get = ['abstract', 'lead_paragraph', 'headline', 'keywords', 'pub_date', 'document_type', 'section_name']\n",
    "    for info in things_to_get:\n",
    "        output_dict[info] = article[info]\n",
    "    keywords = output_dict['keywords']\n",
    "    keywords = [tag['value'] for tag in keywords] \n",
    "    output_dict['keywords'] = keywords\n",
    "    return output_dict\n",
    "\n",
    "def flattenAllArticles(date):\n",
    "    articles_of_the_day = getArticlesOfDay(date)\n",
    "    output_list = []\n",
    "    for article in articles_of_the_day:\n",
    "        output_list.append(flattenArticle(article))\n",
    "    \n",
    "    df = pd.DataFrame(output_list)\n",
    "    file_name = f\"articles_{date[:7]}.csv\"\n",
    "    df.to_csv(file_name, index=False)\n",
    "    return df\n"
   ]
  },
  {
   "cell_type": "code",
   "execution_count": null,
   "id": "ed325113-d2ce-4771-b254-876d6b279591",
   "metadata": {},
   "outputs": [],
   "source": []
  },
  {
   "cell_type": "code",
   "execution_count": null,
   "id": "a2e76c30-f000-4cd7-aa8e-1ae148d9dbd2",
   "metadata": {},
   "outputs": [],
   "source": []
  },
  {
   "cell_type": "code",
   "execution_count": null,
   "id": "44d2fef3-1f09-4bb7-90ba-8a73cef9b744",
   "metadata": {},
   "outputs": [],
   "source": []
  }
 ],
 "metadata": {
  "kernelspec": {
   "display_name": "Python 3 (ipykernel)",
   "language": "python",
   "name": "python3"
  },
  "language_info": {
   "codemirror_mode": {
    "name": "ipython",
    "version": 3
   },
   "file_extension": ".py",
   "mimetype": "text/x-python",
   "name": "python",
   "nbconvert_exporter": "python",
   "pygments_lexer": "ipython3",
   "version": "3.11.5"
  }
 },
 "nbformat": 4,
 "nbformat_minor": 5
}
